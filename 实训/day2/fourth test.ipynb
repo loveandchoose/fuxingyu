{
 "cells": [
  {
   "cell_type": "code",
   "execution_count": 1,
   "id": "1855c7a1-2e9d-4499-9b75-54d226d59864",
   "metadata": {},
   "outputs": [],
   "source": [
    "import numpy"
   ]
  },
  {
   "cell_type": "code",
   "execution_count": 2,
   "id": "b852925c-24f3-480e-894c-9d3dc1be4067",
   "metadata": {},
   "outputs": [
    {
     "name": "stdout",
     "output_type": "stream",
     "text": [
      "原始数组:\n",
      " [[ 1  2  3  4]\n",
      " [ 5  6  7  8]\n",
      " [ 9 10 11 12]]\n",
      "\n",
      "形状: (3, 4)\n",
      "维度: 2\n",
      "数据类型: int64\n",
      "\n",
      "乘以2后的数组:\n",
      " [[ 2  4  6  8]\n",
      " [10 12 14 16]\n",
      " [18 20 22 24]]\n",
      "\n",
      "重塑为4x3的数组:\n",
      " [[ 1  2  3]\n",
      " [ 4  5  6]\n",
      " [ 7  8  9]\n",
      " [10 11 12]]\n"
     ]
    }
   ],
   "source": [
    "import numpy as np\n",
    "\n",
    "# 创建3x4的二维数组\n",
    "arr = np.arange(1, 13).reshape(3, 4)\n",
    "print(\"原始数组:\\n\", arr)\n",
    "\n",
    "# 1. 打印数组属性\n",
    "print(\"\\n形状:\", arr.shape)\n",
    "print(\"维度:\", arr.ndim)\n",
    "print(\"数据类型:\", arr.dtype)\n",
    "\n",
    "# 2. 元素乘以2\n",
    "arr_multiplied = arr * 2\n",
    "print(\"\\n乘以2后的数组:\\n\", arr_multiplied)\n",
    "\n",
    "# 3. 重塑为4x3\n",
    "arr_reshaped = arr.reshape(4, 3)\n",
    "print(\"\\n重塑为4x3的数组:\\n\", arr_reshaped)"
   ]
  },
  {
   "cell_type": "code",
   "execution_count": 3,
   "id": "e5b189f3-3892-4b04-8421-d105fc4c57d1",
   "metadata": {},
   "outputs": [
    {
     "name": "stdout",
     "output_type": "stream",
     "text": [
      "第2行: [5 6 7 8]\n",
      "第3列: [ 3  7 11 15]\n",
      "子数组:\n",
      " [[2 3]\n",
      " [6 7]]\n",
      "修改后的数组:\n",
      " [[ 1  2  3  4]\n",
      " [ 5  6  7  8]\n",
      " [ 9 10  0  0]\n",
      " [ 0  0  0  0]]\n"
     ]
    }
   ],
   "source": [
    "import numpy as np\n",
    "\n",
    "array = np.array([[1, 2, 3, 4],\n",
    "                  [5, 6, 7, 8],\n",
    "                  [9, 10, 11, 12],\n",
    "                  [13, 14, 15, 16]])\n",
    "\n",
    "# 1. 提取第2行（索引为1）\n",
    "row_2 = array[1, :]\n",
    "print(\"第2行:\", row_2)\n",
    "\n",
    "# 2. 提取第3列（索引为2）\n",
    "col_3 = array[:, 2]\n",
    "print(\"第3列:\", col_3)\n",
    "\n",
    "# 3. 提取子数组（行1-2，列2-3）\n",
    "sub_array = array[0:2, 1:3]\n",
    "print(\"子数组:\\n\", sub_array)\n",
    "\n",
    "# 4. 条件替换\n",
    "array[array > 10] = 0\n",
    "print(\"修改后的数组:\\n\", array)"
   ]
  },
  {
   "cell_type": "code",
   "execution_count": 4,
   "id": "9b05bf08-8ca1-4433-a0fe-133d6df90063",
   "metadata": {},
   "outputs": [
    {
     "name": "stdout",
     "output_type": "stream",
     "text": [
      "数组A:\n",
      " [[1 2]\n",
      " [3 4]\n",
      " [5 6]]\n",
      "数组B: [10 20]\n",
      "\n",
      "A + B:\n",
      " [[11 22]\n",
      " [13 24]\n",
      " [15 26]]\n",
      "\n",
      "A * B:\n",
      " [[ 10  40]\n",
      " [ 30  80]\n",
      " [ 50 120]]\n",
      "\n",
      "A每行与B的点积: [ 50 110 170]\n",
      "(验证)点积结果: [ 50 110 170]\n"
     ]
    }
   ],
   "source": [
    "import numpy as np\n",
    "\n",
    "# 创建数组A和B\n",
    "A = np.arange(1, 7).reshape(3, 2)\n",
    "B = np.array([10, 20])\n",
    "\n",
    "print(\"数组A:\\n\", A)\n",
    "print(\"数组B:\", B)\n",
    "\n",
    "# 1. 逐元素相加\n",
    "add_result = A + B\n",
    "print(\"\\nA + B:\\n\", add_result)\n",
    "\n",
    "# 2. 逐元素相乘\n",
    "mul_result = A * B\n",
    "print(\"\\nA * B:\\n\", mul_result)\n",
    "\n",
    "# 3. 每行点积\n",
    "dot_result = np.dot(A, B)\n",
    "print(\"\\nA每行与B的点积:\", dot_result)\n",
    "\n",
    "# 等价写法\n",
    "dot_result_alt = A @ B\n",
    "print(\"(验证)点积结果:\", dot_result_alt)"
   ]
  },
  {
   "cell_type": "code",
   "execution_count": null,
   "id": "2d2fa29e-f536-4b4a-9c60-2758c8a83c5c",
   "metadata": {},
   "outputs": [],
   "source": []
  }
 ],
 "metadata": {
  "kernelspec": {
   "display_name": "Python 3 (ipykernel)",
   "language": "python",
   "name": "python3"
  },
  "language_info": {
   "codemirror_mode": {
    "name": "ipython",
    "version": 3
   },
   "file_extension": ".py",
   "mimetype": "text/x-python",
   "name": "python",
   "nbconvert_exporter": "python",
   "pygments_lexer": "ipython3",
   "version": "3.12.3"
  }
 },
 "nbformat": 4,
 "nbformat_minor": 5
}
